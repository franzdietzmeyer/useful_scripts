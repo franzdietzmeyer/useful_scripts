{
 "cells": [
  {
   "cell_type": "code",
   "execution_count": 1,
   "metadata": {},
   "outputs": [
    {
     "name": "stdout",
     "output_type": "stream",
     "text": [
      "Data has been written to L2K.mutfile\n",
      "Data has been written to R77L.mutfile\n",
      "Data has been written to A91K.mutfile\n",
      "Data has been written to N114Y.mutfile\n",
      "Data has been written to A138W.mutfile\n",
      "Data has been written to N173Y.mutfile\n",
      "Data has been written to A189L.mutfile\n",
      "Data has been written to T200D.mutfile\n",
      "Data has been written to S204I.mutfile\n",
      "Data has been written to A215T.mutfile\n",
      "Data has been written to H245Y.mutfile\n",
      "Data has been written to G273M.mutfile\n",
      "Data has been written to N314T.mutfile\n",
      "Data has been written to T320K.mutfile\n",
      "Data has been written to R331T.mutfile\n",
      "Data has been written to A341N.mutfile\n",
      "Data has been written to Q396K.mutfile\n",
      "Data has been written to N406E.mutfile\n",
      "Data has been written to N415F.mutfile\n"
     ]
    }
   ],
   "source": [
    "def process_mutations(input_file):\n",
    "    # Define the constant to add to the position\n",
    "    A = 551\n",
    "\n",
    "    # Open the input file and read each line\n",
    "    with open(input_file, 'r') as infile:\n",
    "        lines = infile.readlines()\n",
    "\n",
    "    # Skip the header and iterate over each mutation line\n",
    "    for line in lines[1:]:\n",
    "        # Split the line into components: native amino acid, position, and mutant amino acid\n",
    "        native, position, mutant = line.strip().split()\n",
    "        position = int(position)\n",
    "\n",
    "        # Create a unique output filename based on the mutation data\n",
    "        output_file = f\"{native}{position}{mutant}.mutfile\"\n",
    "\n",
    "        # Open the output file to write the formatted data\n",
    "        with open(output_file, 'w') as outfile:\n",
    "            outfile.write(\"total 3\\n\")\n",
    "            outfile.write(\"3\\n\")\n",
    "            outfile.write(f\"{native} {position} {mutant}\\n\")\n",
    "            outfile.write(f\"{native} {position + A} {mutant}\\n\")\n",
    "            outfile.write(f\"{native} {position + 2 * A} {mutant}\\n\")\n",
    "\n",
    "        # Notify the user that the file has been written\n",
    "        print(f\"Data has been written to {output_file}\")\n",
    "\n",
    "# Usage example\n",
    "input_file = 'input.txt'  # Replace with your actual input file name\n",
    "process_mutations(input_file)\n"
   ]
  }
 ],
 "metadata": {
  "kernelspec": {
   "display_name": "Python 3",
   "language": "python",
   "name": "python3"
  },
  "language_info": {
   "codemirror_mode": {
    "name": "ipython",
    "version": 3
   },
   "file_extension": ".py",
   "mimetype": "text/x-python",
   "name": "python",
   "nbconvert_exporter": "python",
   "pygments_lexer": "ipython3",
   "version": "3.10.12"
  }
 },
 "nbformat": 4,
 "nbformat_minor": 2
}
